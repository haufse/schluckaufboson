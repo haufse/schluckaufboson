{
 "cells": [
  {
   "cell_type": "markdown",
   "metadata": {},
   "source": [
    "# Invariant masses:"
   ]
  },
  {
   "cell_type": "code",
   "execution_count": 1,
   "metadata": {},
   "outputs": [],
   "source": [
    "import uproot\n",
    "import numpy as np\n",
    "import matplotlib.pyplot as plt\n",
    "from scipy.optimize import curve_fit\n",
    "import os\n",
    "import utils\n",
    "\n",
    "cwd = os.getcwd()\n",
    "#import mplhep as hep\n",
    "plt.rcParams.update({\n",
    "    \"text.usetex\": True,\n",
    "    \"font.family\": \"serif\"\n",
    "})\n",
    "%load_ext autoreload\n",
    "%autoreload 2"
   ]
  },
  {
   "cell_type": "code",
   "execution_count": 2,
   "metadata": {},
   "outputs": [],
   "source": [
    "file_paths = [f\"../proj/GamGam/Data/data_{x}.GamGam.root\" for x in ['A', 'B', 'C', 'D']]  # Update with your file path\n",
    "tree_name = \"mini\"  # The tree name based on the provided data structure\n",
    "bw=3\n",
    "lower, upper = 110, 140\n",
    "#datasets = [file_paths[1]]\n",
    "#bw=1.5\n",
    "#lower, upper = 110, 140\n",
    "datasets = file_paths"
   ]
  },
  {
   "cell_type": "code",
   "execution_count": 3,
   "metadata": {},
   "outputs": [],
   "source": [
    "# Initialize lists to store results\n",
    "invariant_masses = []\n",
    "total_events = 0\n",
    "tight_photons_count = 0\n",
    "isolated_photons_count = 0\n",
    "valid_jet_met_count = 0\n",
    "\n",
    "# Loop through each dataset file\n",
    "for file_path in datasets:\n",
    "#for file_path in [datasets[1]]:\n",
    "    with uproot.open(file_path) as file:\n",
    "        tree = file[tree_name]\n",
    "\n",
    "        # Read the branches for photon data\n",
    "        photon_E = tree[\"photon_E\"].array(library=\"np\")\n",
    "        photon_pt = tree[\"photon_pt\"].array(library=\"np\")\n",
    "        photon_eta = tree[\"photon_eta\"].array(library=\"np\")\n",
    "        photon_phi = tree[\"photon_phi\"].array(library=\"np\")\n",
    "        photon_isTightID = tree[\"photon_isTightID\"].array(library=\"np\")\n",
    "        photon_ptcone30 = tree[\"photon_ptcone30\"].array(library=\"np\")\n",
    "        photon_etcone20 = tree[\"photon_etcone20\"].array(library=\"np\")\n",
    "        jet_n = tree[\"jet_n\"].array(library=\"np\")\n",
    "        met_et = tree[\"met_et\"].array(library=\"np\")\n",
    "\n",
    "    # Total number of events\n",
    "    total_events += len(photon_E)\n",
    "\n",
    "    # Loop through each event to calculate the invariant mass and apply filters\n",
    "    for E, pt, eta, phi, isTight, ptcone30, etcone20, jet_count, met in zip(\n",
    "        photon_E, photon_pt, photon_eta, photon_phi, photon_isTightID, photon_ptcone30, photon_etcone20, jet_n, met_et):\n",
    "\n",
    "        # Filter for events with at least two photons\n",
    "        if len(E) >= 2 and isTight[0] and isTight[1]:  # Both photons must be \"tight\"\n",
    "            tight_photons_count += 1  # Count events passing the tight filter\n",
    "\n",
    "            # Apply photon isolation criteria\n",
    "            if True:#ptcone30[0] < 5.0 and etcone20[0] < 5.0 :#and ptcone30[1] < 5.0 and etcone20[1] < 5.0:\n",
    "                isolated_photons_count += 1  # Count events passing the isolation filter\n",
    "\n",
    "                # Optional: filter for events with zero jets and low missing transverse energy\n",
    "                if jet_count ==0 and met/1000 < 25:\n",
    "                    valid_jet_met_count += 1  # Count events passing jet and MET filter\n",
    "\n",
    "                    # Sort photons by energy if needed\n",
    "                    sorted_indices = np.argsort(E)[::-1]\n",
    "                    E = E[sorted_indices]\n",
    "                    pt = pt[sorted_indices]\n",
    "                    eta = eta[sorted_indices]\n",
    "                    phi = phi[sorted_indices]\n",
    "\n",
    "                    # Calculate px, py, pz from pt, eta, phi\n",
    "                    px = pt * np.cos(phi)\n",
    "                    py = pt * np.sin(phi)\n",
    "                    pz = pt * np.sinh(eta)\n",
    "\n",
    "                    # Calculate the invariant mass of the two leading photons\n",
    "                    E1, E2 = E[0], E[1]\n",
    "                    px1, px2 = px[0], px[1]\n",
    "                    py1, py2 = py[0], py[1]\n",
    "                    pz1, pz2 = pz[0], pz[1]\n",
    "\n",
    "                    # Ensure energies are positive\n",
    "                    if E1 > 0 and E2 > 0:\n",
    "                        # Calculate the invariant mass\n",
    "                        invariant_mass = np.sqrt((E1 + E2)**2 - (px1 + px2)**2 - (py1 + py2)**2 - (pz1 + pz2)**2)\n",
    "                        invariant_mass /= 1000  # Convert to GeV\n",
    "\n",
    "                        # Filter events within the mass window\n",
    "                        if True:#lower <= invariant_mass <= upper:\n",
    "                            invariant_masses.append(invariant_mass)\n"
   ]
  },
  {
   "cell_type": "markdown",
   "metadata": {},
   "source": [
    "# P Value Computation"
   ]
  },
  {
   "cell_type": "code",
   "execution_count": 4,
   "metadata": {},
   "outputs": [
    {
     "data": {
      "image/png": "[encoded data removed]",
      "text/plain": [
       "<Figure size 640x480 with 1 Axes>"
      ]
     },
     "metadata": {},
     "output_type": "display_data"
    },
    {
     "name": "stdout",
     "output_type": "stream",
     "text": [
      "Observed test statistic q0: 3.89\n",
      "p-value: 1.651e-01\n",
      "Significance (Z-value): 0.97σ\n"
     ]
    }
   ],
   "source": [
    "\n",
    "import numpy as np\n",
    "import matplotlib.pyplot as plt\n",
    "from scipy.stats import norm\n",
    "\n",
    "# Generate example data\n",
    "np.random.seed(42)\n",
    "n_background = 1000\n",
    "n_signal = 7\n",
    "mass_range = (110, 140)\n",
    "mass_bins = np.linspace(*mass_range, 60)\n",
    "\n",
    "# Background model: exponential\n",
    "background = np.random.exponential(scale=5, size=n_background) + mass_range[0]\n",
    "background = background[(background >= mass_range[0]) & (background <= mass_range[1])]\n",
    "\n",
    "# Signal model: Gaussian centered around 125 GeV\n",
    "signal = np.random.normal(loc=125, scale=1, size=n_signal)\n",
    "signal = signal[(signal >= mass_range[0]) & (signal <= mass_range[1])]\n",
    "\n",
    "# Combine data\n",
    "data = np.concatenate([background, signal])\n",
    "\n",
    "# Plot data\n",
    "plt.hist(data, bins=mass_bins, alpha=0.7, label='Data (Signal + Background)')\n",
    "plt.hist(background, bins=mass_bins, alpha=0.7, label='Background Only', color='red')\n",
    "plt.axvline(125, color='black', linestyle='--', label='Expected Higgs Mass (125 GeV)')\n",
    "plt.xlabel('Diphoton Invariant Mass (GeV)')\n",
    "plt.ylabel('Events')\n",
    "plt.legend()\n",
    "plt.show()\n",
    "\n",
    "# Compute test statistic for the observed data (simplified example)\n",
    "observed_signal_events = np.sum((data > 124) & (data < 126))\n",
    "expected_background_events = np.sum((background > 124) & (background < 126))\n",
    "q0_obs = -2 * np.log(norm.sf(observed_signal_events, loc=expected_background_events, scale=np.sqrt(expected_background_events)))\n",
    "\n",
    "# Generate pseudo-experiments\n",
    "pseudo_experiments = np.random.poisson(expected_background_events, size=10000)\n",
    "q0_pseudo = -2 * np.log(norm.sf(pseudo_experiments, loc=expected_background_events, scale=np.sqrt(expected_background_events)))\n",
    "\n",
    "# Compute p-value\n",
    "p_value = np.mean(q0_pseudo >= q0_obs)\n",
    "Z_value = norm.isf(p_value)\n",
    "\n",
    "print(f\"Observed test statistic q0: {q0_obs:.2f}\")\n",
    "print(f\"p-value: {p_value:.3e}\")\n",
    "print(f\"Significance (Z-value): {Z_value:.2f}σ\")"
   ]
  },
  {
   "cell_type": "code",
   "execution_count": 5,
   "metadata": {},
   "outputs": [],
   "source": [
    "import pickle as pkl\n",
    "with open('xy.pkl', 'rb') as f:\n",
    "    x,y = pkl.load(f)\n",
    "x , y = np.array(x), np.array(y)"
   ]
  },
  {
   "cell_type": "code",
   "execution_count": 6,
   "metadata": {},
   "outputs": [
    {
     "name": "stdout",
     "output_type": "stream",
     "text": [
      "[ 1.04929744e+05 -3.41108057e-02  3.44540856e-05]\n"
     ]
    },
    {
     "name": "stderr",
     "output_type": "stream",
     "text": [
      "/tmp/ipykernel_17974/2511098900.py:18: RuntimeWarning: overflow encountered in exp\n",
      "  return a * np.exp(b * x + c*x**2)\n"
     ]
    },
    {
     "data": {
      "image/png": "[encoded data removed]",
      "text/plain": [
       "<Figure size 640x480 with 1 Axes>"
      ]
     },
     "metadata": {},
     "output_type": "display_data"
    }
   ],
   "source": [
    "import numpy as np\n",
    "import matplotlib.pyplot as plt\n",
    "from scipy.optimize import curve_fit\n",
    "from scipy.stats import norm\n",
    "\n",
    "# Example data: List of invariant masses (in GeV)\n",
    "#invariant_masses = np.array([\n",
    "#    110.5, 112.3, 113.7, 115.2, 116.8, 117.5, 118.9, 120.1, 121.4, 122.5,\n",
    "#    123.3, 124.7, 125.1, 125.6, 126.0, 126.4, 126.9, 127.2, 128.5, 129.0,\n",
    "#    130.3, 131.5, 132.7, 133.9, 134.8, 135.6, 136.4, 137.5, 138.7, 139.9\n",
    "#])\n",
    "\n",
    "# Define a background model: Exponential decay\n",
    "lower, upper = 110, 140\n",
    "x = x\n",
    "y = y\n",
    "def background_model(x, a, b, c):\n",
    "    return a * np.exp(b * x + c*x**2)\n",
    "\n",
    "# Define a signal model: Gaussian peak\n",
    "def signal_model(x, mu, sigma, amp):\n",
    "    return np.abs(amp) * np.exp(-0.5 * ((x - mu) / sigma) ** 2)\n",
    "\n",
    "# Define a combined model: Signal + Background\n",
    "def combined_model(x, a, b, c, mu, sigma, amp):\n",
    "    return background_model(x, a, b, c) + signal_model(x, mu, sigma, amp)\n",
    "\n",
    "# Bin the data to create a histogram\n",
    "#bins = np.linspace(110, 140, 30)\n",
    "#bin_centers = (bins[:-1] + bins[1:]) / 2\n",
    "#hist, _ = np.histogram(invariant_masses, bins=bins)\n",
    "\n",
    "# Fit the background-only model to data outside the signal region (sidebands)\n",
    "x_outside = np.concatenate((x[110:124], x[126:140]))\n",
    "y_outside = np.concatenate((y[110:124], y[126:140]))\n",
    "\n",
    "popt_bg, pcov_bg = curve_fit(background_model, x[lower:upper], y[lower:upper], p0=(50000, -0.01, -0.001))\n",
    "print(popt_bg)\n",
    "# Plot the data and the fitted background model\n",
    "#plt.hist(invariant_masses, bins=bins, alpha=0.7, label='Data', color='black')\n",
    "plt.plot(x[110:140], background_model(x[110:140], *popt_bg), 'r--', label='Background Fit')\n",
    "plt.xlabel('Diphoton Invariant Mass (GeV)')\n",
    "plt.ylabel('Events')\n",
    "plt.legend()\n",
    "plt.show()\n",
    "\n"
   ]
  },
  {
   "cell_type": "code",
   "execution_count": 7,
   "metadata": {},
   "outputs": [
    {
     "data": {
      "text/plain": [
       "<matplotlib.collections.PathCollection at 0x7cb1af5bca10>"
      ]
     },
     "execution_count": 7,
     "metadata": {},
     "output_type": "execute_result"
    },
    {
     "data": {
      "image/png": "[encoded data removed]",
      "text/plain": [
       "<Figure size 640x480 with 1 Axes>"
      ]
     },
     "metadata": {},
     "output_type": "display_data"
    }
   ],
   "source": [
    "plt.plot(x[110:140], combined_model(x[110:140], 1.04929744*10**5, -3.41108057*10**(-2),  3.44540856*10**(-5), 121.69, 0.85, 111.78\n",
    "), 'r--', label='Background Fit')\n",
    "plt.scatter(x[110:140],y[110:140])"
   ]
  },
  {
   "cell_type": "code",
   "execution_count": 8,
   "metadata": {},
   "outputs": [
    {
     "name": "stdout",
     "output_type": "stream",
     "text": [
      "[ 3.97792119e+05 -5.57865628e-02  1.21822880e-04  1.21723782e+02\n",
      "  1.16601662e+00  1.40494037e+02]\n",
      "Observed test statistic q0: 10.74\n"
     ]
    }
   ],
   "source": [
    "\n",
    "# Fit the combined model (signal + background) to all data\n",
    "popt_combined, _ = curve_fit(combined_model, x[110:140], y[110:140], p0=[popt_bg[0], popt_bg[1], popt_bg[2], 121.69, 0.85, 111.78])\n",
    "print(popt_combined)\n",
    "# Compute the observed test statistic (log-likelihood ratio)\n",
    "def log_likelihood(data, model, params):\n",
    "    model_vals = model(x[110:140], *params)\n",
    "    return np.sum(data * np.log(model_vals) - model_vals)\n",
    "\n",
    "ll_bg = log_likelihood(y[110:140], background_model, popt_bg)\n",
    "ll_combined = log_likelihood(y[110:140], combined_model, popt_combined)\n",
    "q0_obs = -2 * (ll_bg - ll_combined)\n",
    "print(f\"Observed test statistic q0: {q0_obs:.2f}\")\n"
   ]
  },
  {
   "cell_type": "code",
   "execution_count": 48,
   "metadata": {},
   "outputs": [
    {
     "data": {
      "text/plain": [
       "<matplotlib.collections.PathCollection at 0x7cb1af6b4470>"
      ]
     },
     "execution_count": 48,
     "metadata": {},
     "output_type": "execute_result"
    },
    {
     "data": {
      "image/png": "[encoded data removed]",
      "text/plain": [
       "<Figure size 640x480 with 1 Axes>"
      ]
     },
     "metadata": {},
     "output_type": "display_data"
    }
   ],
   "source": [
    "plt.plot(x[110:140], combined_model(x[110:140], *popt_combined), 'r--', label='Background Fit')\n",
    "plt.scatter(x[110:140],y[110:140])"
   ]
  },
  {
   "cell_type": "code",
   "execution_count": 49,
   "metadata": {},
   "outputs": [
    {
     "data": {
      "text/plain": [
       "<matplotlib.collections.PathCollection at 0x7cb2217f3500>"
      ]
     },
     "execution_count": 49,
     "metadata": {},
     "output_type": "execute_result"
    },
    {
     "data": {
      "image/png": "[encoded data removed]",
      "text/plain": [
       "<Figure size 640x480 with 1 Axes>"
      ]
     },
     "metadata": {},
     "output_type": "display_data"
    }
   ],
   "source": [
    "plt.plot(x[110:140], background_model(x[110:140], *popt_bg), 'r--', label='Background Fit')\n",
    "plt.scatter(x[110:140],y[110:140])"
   ]
  },
  {
   "cell_type": "code",
   "execution_count": 10,
   "metadata": {},
   "outputs": [
    {
     "data": {
      "text/plain": [
       "77935.42944477273"
      ]
     },
     "execution_count": 10,
     "metadata": {},
     "output_type": "execute_result"
    }
   ],
   "source": [
    "from scipy.integrate import quad\n",
    "normalization_factor, _ = quad(lambda x: background_model(x, popt_bg[0], popt_bg[1], popt_bg[2]), 110, 140)\n",
    "normalization_factor"
   ]
  },
  {
   "cell_type": "code",
   "execution_count": 11,
   "metadata": {},
   "outputs": [
    {
     "data": {
      "text/plain": [
       "array([132.8858148 , 117.8243916 , 111.91772274, 136.20545158,\n",
       "       119.08522358, 118.06752886, 114.52396951, 135.64345458,\n",
       "       114.83326682, 126.31896521])"
      ]
     },
     "execution_count": 11,
     "metadata": {},
     "output_type": "execute_result"
    }
   ],
   "source": [
    "from scipy.stats import rv_continuous\n",
    "\n",
    "# Custom random variable class using the normalized background function with popt\n",
    "class BCKGRND(rv_continuous):\n",
    "    def _pdf(self, x):\n",
    "        \"\"\"Normalized probability density function (PDF) for the background using popt.\"\"\"\n",
    "        # Check if x is within the valid range [110, 140]\n",
    "        if np.any((x < 110) | (x > 140)):\n",
    "            return 0.0\n",
    "        # Compute normalized PDF\n",
    "        return background_model(x, popt_bg[0], popt_bg[1], popt_bg[2]) / normalization_factor\n",
    "\n",
    "# Create an instance of the custom background random variable\n",
    "BG = BCKGRND(a=110, b=140, name='background')\n",
    "\n",
    "# Generate samples from the normalized background distribution\n",
    "samples = BG.rvs(size=10)\n",
    "samples"
   ]
  },
  {
   "cell_type": "code",
   "execution_count": 12,
   "metadata": {},
   "outputs": [
    {
     "data": {
      "text/plain": [
       "array([134.97819196, 110.73545903, 132.97046971, 119.70580169,\n",
       "       127.00376999, 118.69176968, 128.24036957, 115.71513715,\n",
       "       110.46029218, 137.72417694, 110.34300428, 132.79404796,\n",
       "       113.70402703, 119.21452921, 132.73381062, 114.56000834,\n",
       "       134.38614008, 122.12436076, 118.5283178 , 127.14877162,\n",
       "       117.8875327 , 118.03920084, 129.53305766, 117.08611994,\n",
       "       114.43881352, 132.1815237 , 132.09755877, 122.11940117,\n",
       "       122.96061501, 128.25912404])"
      ]
     },
     "execution_count": 12,
     "metadata": {},
     "output_type": "execute_result"
    }
   ],
   "source": [
    "BG.rvs(size=len(x[110:140]))"
   ]
  },
  {
   "cell_type": "code",
   "execution_count": 13,
   "metadata": {},
   "outputs": [],
   "source": [
    "#plt.scatter(x[110:140], pseudo_data)\n",
    "#plt.plot(x[110:140], background_model(x[110:140], *popt_pseudo),c='r')"
   ]
  },
  {
   "cell_type": "code",
   "execution_count": 14,
   "metadata": {},
   "outputs": [
    {
     "data": {
      "text/plain": [
       "10.738364239688963"
      ]
     },
     "execution_count": 14,
     "metadata": {},
     "output_type": "execute_result"
    }
   ],
   "source": [
    "q0_obs"
   ]
  },
  {
   "cell_type": "code",
   "execution_count": 15,
   "metadata": {},
   "outputs": [
    {
     "name": "stderr",
     "output_type": "stream",
     "text": [
      "  0%|          | 0/100000 [00:00<?, ?it/s]"
     ]
    },
    {
     "name": "stderr",
     "output_type": "stream",
     "text": [
      " 28%|██▊       | 27714/100000 [24:22<53:32, 22.50it/s]  /tmp/ipykernel_17974/3140645081.py:16: OptimizeWarning: Covariance of the parameters could not be estimated\n",
      "  popt_pseudo, _ = curve_fit(background_model, x[110:140], pseudo_data, p0=[popt_bg[0], popt_bg[1], popt_bg[2]])\n",
      "100%|██████████| 100000/100000 [1:23:09<00:00, 20.04it/s]"
     ]
    },
    {
     "name": "stdout",
     "output_type": "stream",
     "text": [
      "fails: 1807\n",
      "p-value: 1.018e-05\n",
      "Significance (Z-value): 4.26σ\n"
     ]
    },
    {
     "name": "stderr",
     "output_type": "stream",
     "text": [
      "\n"
     ]
    }
   ],
   "source": [
    "from tqdm import tqdm\n",
    "\n",
    "\n",
    "# Generate pseudo-experiments under the null hypothesis (background only)\n",
    "n_pseudo = 100000\n",
    "fails = 0\n",
    "pseudo_q0 = []\n",
    "for _ in tqdm(range(n_pseudo)):\n",
    "    try:\n",
    "        # Generate pseudo data under the background-only hypothesis\n",
    "        #pseudo_data = np.random.poisson(background_model(x[110:140], *popt_bg))\n",
    "        pseudo_data = BG.rvs(size=len(x[110:140]))\n",
    "        pseudo_data = np.sort(pseudo_data)[::-1]\n",
    "        \n",
    "        # Fit the background model to the pseudo data\n",
    "        popt_pseudo, _ = curve_fit(background_model, x[110:140], pseudo_data, p0=[popt_bg[0], popt_bg[1], popt_bg[2]])\n",
    "        ll_pseudo_bg = log_likelihood(pseudo_data, background_model, popt_pseudo)\n",
    "        \n",
    "        # Fit the combined model to the pseudo data\n",
    "        #popt_combined_pseudo, _ = curve_fit(combined_model, x[110:140], pseudo_data, p0=[popt_bg[0], popt_bg[1], popt_bg[2], 125, 1, 10])\n",
    "        popt_combined_pseudo, _ = curve_fit(combined_model, \n",
    "                                            x[110:140], pseudo_data, p0=popt_combined, \n",
    "                                            bounds=np.array([[10**4,10**7],[-0.1,0.1],[-0.1,0.1],\n",
    "                                                            [120,130],[0,np.inf],[0,500]]).T\n",
    "                                            )\n",
    "        ll_pseudo_combined = log_likelihood(pseudo_data, combined_model, popt_combined_pseudo)\n",
    "        \n",
    "        # Calculate the test statistic for the pseudo data\n",
    "        q0_pseudo = -2 * (ll_pseudo_bg - ll_pseudo_combined)\n",
    "        pseudo_q0.append(q0_pseudo)\n",
    "\n",
    "        #fig = plt.figure()\n",
    "        #plt.scatter(x[110:140], pseudo_data)\n",
    "        #plt.plot(x[110:140], background_model(x[110:140], *popt_pseudo),c='r')\n",
    "        #plt.plot(x[110:140], combined_model(x[110:140], *popt_combined_pseudo),c='r')\n",
    "        #plt.show()\n",
    "    except:\n",
    "        fails+=1\n",
    "        pass\n",
    "\n",
    "# Compute p-value as the fraction of pseudo-experiments with q0 >= q0_obs\n",
    "p_value = np.mean(np.array(pseudo_q0) >= q0_obs)\n",
    "Z_value = norm.isf(p_value)\n",
    "print(f'fails: {fails}')\n",
    "print(f\"p-value: {p_value:.3e}\")\n",
    "print(f\"Significance (Z-value): {Z_value:.2f}σ\")\n"
   ]
  },
  {
   "cell_type": "code",
   "execution_count": 16,
   "metadata": {},
   "outputs": [
    {
     "data": {
      "image/png": "[encoded data removed]",
      "text/plain": [
       "<Figure size 640x480 with 1 Axes>"
      ]
     },
     "metadata": {},
     "output_type": "display_data"
    }
   ],
   "source": [
    "plt.figure()\n",
    "plt.hist(pseudo_q0,density=True)\n",
    "plt.show()"
   ]
  },
  {
   "cell_type": "code",
   "execution_count": 20,
   "metadata": {},
   "outputs": [
    {
     "name": "stderr",
     "output_type": "stream",
     "text": [
      " 26%|██▋       | 52530/200000 [1:20:56<4:28:57,  9.14it/s]/tmp/ipykernel_17974/3823800495.py:16: OptimizeWarning: Covariance of the parameters could not be estimated\n",
      "  popt_pseudo, _ = curve_fit(background_model, x[110:140], pseudo_data, p0=[popt_bg[0], popt_bg[1], popt_bg[2]])\n",
      "100%|██████████| 200000/200000 [4:44:14<00:00, 11.73it/s]  "
     ]
    },
    {
     "name": "stdout",
     "output_type": "stream",
     "text": [
      "fails: 43332\n",
      "p-value: 0.000e+00\n",
      "Significance (Z-value): infσ\n"
     ]
    },
    {
     "name": "stderr",
     "output_type": "stream",
     "text": [
      "\n"
     ]
    }
   ],
   "source": [
    "from tqdm import tqdm\n",
    "\n",
    "\n",
    "# Generate pseudo-experiments under the null hypothesis (background only)\n",
    "n_pseudo = 200000\n",
    "fails = 0\n",
    "pseudo_q0 = []\n",
    "for _ in tqdm(range(n_pseudo)):\n",
    "    try:\n",
    "        # Generate pseudo data under the background-only hypothesis\n",
    "        #pseudo_data = np.random.poisson(background_model(x[110:140], *popt_bg))\n",
    "        pseudo_data = BG.rvs(size=len(x[110:140]))\n",
    "        pseudo_data = np.sort(pseudo_data)[::-1]\n",
    "        \n",
    "        # Fit the background model to the pseudo data\n",
    "        popt_pseudo, _ = curve_fit(background_model, x[110:140], pseudo_data, p0=[popt_bg[0], popt_bg[1], popt_bg[2]])\n",
    "        ll_pseudo_bg = log_likelihood(pseudo_data, background_model, popt_pseudo)\n",
    "        \n",
    "        # Fit the combined model to the pseudo data\n",
    "        #popt_combined_pseudo, _ = curve_fit(combined_model, x[110:140], pseudo_data, p0=[popt_bg[0], popt_bg[1], popt_bg[2], 125, 1, 10])\n",
    "        popt_combined_pseudo, _ = curve_fit(combined_model, \n",
    "                                            x[110:140], pseudo_data, p0=popt_combined, \n",
    "                                            bounds=np.array([[-np.inf,np.inf],[-np.inf,np.inf],[-np.inf,np.inf],\n",
    "                                                            [120,130],[0,np.inf],[0,np.inf]]).T\n",
    "                                            )\n",
    "        ll_pseudo_combined = log_likelihood(pseudo_data, combined_model, popt_combined_pseudo)\n",
    "        \n",
    "        # Calculate the test statistic for the pseudo data\n",
    "        q0_pseudo = -2 * (ll_pseudo_bg - ll_pseudo_combined)\n",
    "        pseudo_q0.append(q0_pseudo)\n",
    "\n",
    "        #fig = plt.figure()\n",
    "        #plt.scatter(x[110:140], pseudo_data)\n",
    "        #plt.plot(x[110:140], background_model(x[110:140], *popt_pseudo),c='r')\n",
    "        #plt.plot(x[110:140], combined_model(x[110:140], *popt_combined_pseudo),c='r')\n",
    "        #plt.show()\n",
    "    except:\n",
    "        fails+=1\n",
    "        pass\n",
    "\n",
    "# Compute p-value as the fraction of pseudo-experiments with q0 >= q0_obs\n",
    "p_value = np.mean(np.array(pseudo_q0) >= q0_obs)\n",
    "Z_value = norm.isf(p_value)\n",
    "print(f'fails: {fails}')\n",
    "print(f\"p-value: {p_value:.3e}\")\n",
    "print(f\"Significance (Z-value): {Z_value:.2f}σ\")\n"
   ]
  },
  {
   "cell_type": "code",
   "execution_count": 21,
   "metadata": {},
   "outputs": [
    {
     "data": {
      "image/png": "[encoded data removed]",
      "text/plain": [
       "<Figure size 640x480 with 1 Axes>"
      ]
     },
     "metadata": {},
     "output_type": "display_data"
    }
   ],
   "source": [
    "plt.figure()\n",
    "plt.hist(pseudo_q0,density=True,bins=1000,range=[0,2])\n",
    "plt.show()"
   ]
  },
  {
   "cell_type": "code",
   "execution_count": 22,
   "metadata": {},
   "outputs": [
    {
     "name": "stderr",
     "output_type": "stream",
     "text": [
      "100%|██████████| 400000/400000 [5:13:03<00:00, 21.30it/s]  "
     ]
    },
    {
     "name": "stdout",
     "output_type": "stream",
     "text": [
      "fails: 7057\n",
      "p-value: nan\n",
      "Significance (Z-value): nanσ\n"
     ]
    },
    {
     "name": "stderr",
     "output_type": "stream",
     "text": [
      "\n",
      "/home/erik/miniconda3/envs/climx_attr/lib/python3.12/site-packages/numpy/core/fromnumeric.py:3504: RuntimeWarning: Mean of empty slice.\n",
      "  return _methods._mean(a, axis=axis, dtype=dtype,\n",
      "/home/erik/miniconda3/envs/climx_attr/lib/python3.12/site-packages/numpy/core/_methods.py:129: RuntimeWarning: invalid value encountered in scalar divide\n",
      "  ret = ret.dtype.type(ret / rcount)\n"
     ]
    }
   ],
   "source": [
    "from tqdm import tqdm\n",
    "\n",
    "\n",
    "# Generate pseudo-experiments under the null hypothesis (background only)\n",
    "n_pseudo = 400000\n",
    "fails = 0\n",
    "pseudo_q0_cut = []\n",
    "for _ in tqdm(range(n_pseudo)):\n",
    "    try:\n",
    "        # Generate pseudo data under the background-only hypothesis\n",
    "        #pseudo_data = np.random.poisson(background_model(x[110:140], *popt_bg))\n",
    "        pseudo_data = BG.rvs(size=len(x[110:140]))\n",
    "        pseudo_data = np.sort(pseudo_data)[::-1]\n",
    "        \n",
    "        # Fit the background model to the pseudo data\n",
    "        popt_pseudo, _ = curve_fit(background_model, x[110:140], pseudo_data, p0=[popt_bg[0], popt_bg[1], popt_bg[2]])\n",
    "        ll_pseudo_bg = log_likelihood(pseudo_data, background_model, popt_pseudo)\n",
    "        \n",
    "        # Fit the combined model to the pseudo data\n",
    "        #popt_combined_pseudo, _ = curve_fit(combined_model, x[110:140], pseudo_data, p0=[popt_bg[0], popt_bg[1], popt_bg[2], 125, 1, 10])\n",
    "        popt_combined_pseudo, _ = curve_fit(combined_model, \n",
    "                                            x[110:140], pseudo_data, p0=popt_combined, \n",
    "                                            bounds=np.array([[10**4,10**7],[-0.1,0.1],[-0.1,0.1],\n",
    "                                                            [120,130],[0,np.inf],[0,500]]).T\n",
    "                                            )\n",
    "        ll_pseudo_combined = log_likelihood(pseudo_data, combined_model, popt_combined_pseudo)\n",
    "        \n",
    "        # Calculate the test statistic for the pseudo data\n",
    "        q0_pseudo = -2 * (ll_pseudo_bg - ll_pseudo_combined)\n",
    "        pseudo_q0.append(q0_pseudo)\n",
    "\n",
    "        #fig = plt.figure()\n",
    "        #plt.scatter(x[110:140], pseudo_data)\n",
    "        #plt.plot(x[110:140], background_model(x[110:140], *popt_pseudo),c='r')\n",
    "        #plt.plot(x[110:140], combined_model(x[110:140], *popt_combined_pseudo),c='r')\n",
    "        #plt.show()\n",
    "    except:\n",
    "        fails+=1\n",
    "        pass\n",
    "\n",
    "# Compute p-value as the fraction of pseudo-experiments with q0 >= q0_obs\n",
    "p_value = np.mean(np.array(pseudo_q0_cut) >= q0_obs)\n",
    "Z_value = norm.isf(p_value)\n",
    "print(f'fails: {fails}')\n",
    "print(f\"p-value: {p_value:.6e}\")\n",
    "print(f\"Significance (Z-value): {Z_value:.2f}σ\")\n"
   ]
  },
  {
   "cell_type": "code",
   "execution_count": 25,
   "metadata": {},
   "outputs": [
    {
     "name": "stdout",
     "output_type": "stream",
     "text": [
      "fails: 7057\n",
      "p-value: 0.000000e+00\n",
      "Significance (Z-value): infσ\n"
     ]
    }
   ],
   "source": [
    "# Compute p-value as the fraction of pseudo-experiments with q0 >= q0_obs\n",
    "p_value = np.mean(np.array(pseudo_q0[200000:]) >= q0_obs)\n",
    "Z_value = norm.isf(p_value)\n",
    "print(f'fails: {fails}')\n",
    "print(f\"p-value: {p_value:.6e}\")\n",
    "print(f\"Significance (Z-value): {Z_value:.2f}σ\")"
   ]
  },
  {
   "cell_type": "code",
   "execution_count": 27,
   "metadata": {},
   "outputs": [
    {
     "data": {
      "image/png": "[encoded data removed]",
      "text/plain": [
       "<Figure size 640x480 with 1 Axes>"
      ]
     },
     "metadata": {},
     "output_type": "display_data"
    }
   ],
   "source": [
    "plt.figure()\n",
    "plt.hist(pseudo_q0[200000:],density=True,bins=1000,range=[0,2])\n",
    "plt.show()"
   ]
  },
  {
   "cell_type": "markdown",
   "metadata": {},
   "source": [
    "# quick n dirty"
   ]
  },
  {
   "cell_type": "code",
   "execution_count": 32,
   "metadata": {},
   "outputs": [
    {
     "data": {
      "text/plain": [
       "1986"
      ]
     },
     "execution_count": 32,
     "metadata": {},
     "output_type": "execute_result"
    }
   ],
   "source": [
    "np.sum(np.bitwise_and(np.array(invariant_masses) > 124, np.array(invariant_masses) < 126))"
   ]
  },
  {
   "cell_type": "code",
   "execution_count": 36,
   "metadata": {},
   "outputs": [
    {
     "data": {
      "text/plain": [
       "2075.0"
      ]
     },
     "execution_count": 36,
     "metadata": {},
     "output_type": "execute_result"
    }
   ],
   "source": [
    "np.sum(np.bitwise_and(np.array(invariant_masses) > 110, np.array(invariant_masses) < 140))/15"
   ]
  },
  {
   "cell_type": "code",
   "execution_count": 38,
   "metadata": {},
   "outputs": [
    {
     "data": {
      "text/plain": [
       "2875.231444704045"
      ]
     },
     "execution_count": 38,
     "metadata": {},
     "output_type": "execute_result"
    }
   ],
   "source": [
    "background_model(120, *popt_bg)"
   ]
  },
  {
   "cell_type": "code",
   "execution_count": 40,
   "metadata": {},
   "outputs": [
    {
     "data": {
      "text/plain": [
       "(5058.4110681659, 5.615964435896515e-11)"
      ]
     },
     "execution_count": 40,
     "metadata": {},
     "output_type": "execute_result"
    }
   ],
   "source": [
    "import scipy.integrate as integrate\n",
    "integrate.quad(lambda x: background_model(x, *popt_bg),124,126)"
   ]
  },
  {
   "cell_type": "code",
   "execution_count": 50,
   "metadata": {},
   "outputs": [],
   "source": [
    "integral, error = integrate.quad(background_model, 120, 124, args=(popt_bg[0],popt_bg[1],popt_bg[2]))"
   ]
  },
  {
   "cell_type": "code",
   "execution_count": 51,
   "metadata": {},
   "outputs": [
    {
     "data": {
      "text/plain": [
       "10928.434712803839"
      ]
     },
     "execution_count": 51,
     "metadata": {},
     "output_type": "execute_result"
    }
   ],
   "source": [
    "integral"
   ]
  },
  {
   "cell_type": "code",
   "execution_count": 52,
   "metadata": {},
   "outputs": [],
   "source": [
    "integralc, error = integrate.quad(combined_model, 120, 124, args=(popt_combined[0],popt_combined[1],popt_combined[2],popt_combined[3],popt_combined[4],popt_combined[5]))"
   ]
  },
  {
   "cell_type": "code",
   "execution_count": 54,
   "metadata": {},
   "outputs": [
    {
     "data": {
      "text/plain": [
       "2.3820425794256748"
      ]
     },
     "execution_count": 54,
     "metadata": {},
     "output_type": "execute_result"
    }
   ],
   "source": [
    "(integralc-integral)/np.sqrt(integral)"
   ]
  },
  {
   "cell_type": "code",
   "execution_count": 55,
   "metadata": {},
   "outputs": [
    {
     "data": {
      "text/plain": [
       "(0.008608453295495977, 2.382042579425676)"
      ]
     },
     "execution_count": 55,
     "metadata": {},
     "output_type": "execute_result"
    }
   ],
   "source": [
    "from scipy.stats import poisson, norm\n",
    "\n",
    "p_value_gaussian = 1 - norm.cdf((integralc-integral)/np.sqrt(integral))\n",
    "Z_value = norm.isf(p_value_gaussian)\n",
    "p_value_gaussian,Z_value"
   ]
  },
  {
   "cell_type": "code",
   "execution_count": null,
   "metadata": {},
   "outputs": [],
   "source": []
  }
 ],
 "metadata": {
  "kernelspec": {
   "display_name": "climx_attr",
   "language": "python",
   "name": "python3"
  },
  "language_info": {
   "codemirror_mode": {
    "name": "ipython",
    "version": 3
   },
   "file_extension": ".py",
   "mimetype": "text/x-python",
   "name": "python",
   "nbconvert_exporter": "python",
   "pygments_lexer": "ipython3",
   "version": "3.12.4"
  }
 },
 "nbformat": 4,
 "nbformat_minor": 2
}
