{
 "cells": [
  {
   "cell_type": "code",
   "execution_count": 1,
   "metadata": {},
   "outputs": [],
   "source": [
    "import pickle\n",
    "import numpy as np\n",
    "import matplotlib.pyplot as plt\n",
    "import pandas as pd\n",
    "import xgboost as xgb\n",
    "from sklearn.metrics import log_loss\n",
    "from sklearn.model_selection import train_test_split"
   ]
  },
  {
   "cell_type": "code",
   "execution_count": 3,
   "metadata": {},
   "outputs": [],
   "source": [
    "with open('split_combined_df.pkl', 'rb') as f:\n",
    "    df_b = pickle.load(f)\n",
    "with open('split_signal_dfs.pkl', 'rb') as f:\n",
    "    df_s = pd.concat(pickle.load(f).values(), ignore_index=True)"
   ]
  },
  {
   "cell_type": "code",
   "execution_count": 4,
   "metadata": {},
   "outputs": [],
   "source": [
    "X = pd.concat([df_b, df_s], ignore_index=True)\n",
    "y = np.array([0]*len(df_b) + [1]*len(df_s))\n",
    "\n",
    "X[['trigMatched_1', 'trigMatched_2']] = pd.DataFrame(X['photon_trigMatched'].tolist(), index=X.index)\n",
    "X = X.drop('photon_trigMatched', axis=1)\n",
    "\n",
    "X_train, X_test, y_train, y_test = train_test_split(X, y, test_size=0.05, random_state=42)"
   ]
  },
  {
   "cell_type": "code",
   "execution_count": 5,
   "metadata": {},
   "outputs": [],
   "source": [
    "# Prepare data and labels\n",
    "dtest = xgb.DMatrix(X_test)\n",
    "dtrain = xgb.DMatrix(X_train, label=y_train)\n",
    "dtot = xgb.DMatrix(X, label=y)\n",
    "\n",
    "# Set parameters, using logistic regression for binary classification (logistic loss)\n",
    "params = {\n",
    "    'objective': 'binary:logistic',\n",
    "    'eval_metric': 'logloss',  # Log loss is equivalent to cross-entropy\n",
    "    'eta': 0.1,  # Learning rate\n",
    "    'max_depth': 5,\n",
    "    'subsample': 0.8,  # Subsample to prevent overfitting\n",
    "    'colsample_bytree': 0.8  # Feature sampling\n",
    "}\n",
    "\n",
    "# Train the model with 100 rounds\n",
    "bst = xgb.train(params, dtrain, num_boost_round=500)"
   ]
  },
  {
   "cell_type": "code",
   "execution_count": null,
   "metadata": {},
   "outputs": [
    {
     "name": "stdout",
     "output_type": "stream",
     "text": [
      "in sample: 0.14686226124423926\n",
      "out of sample: 0.14668331580937274\n",
      "sensitivity: 0.74243796 false_positives: 0.09476431\n"
     ]
    }
   ],
   "source": [
    "y_pred = bst.predict(dtrain)\n",
    "print(\"in sample:\", log_loss(y_train, y_pred))\n",
    "\n",
    "y_pred = bst.predict(dtest)\n",
    "print(\"out of sample:\", log_loss(y_test, y_pred))\n",
    "\n",
    "y_pred = bst.predict(dtot)\n",
    "print(\"sensitivity:\", s:=np.mean(y_pred[len(df_b):]), \"false_positives:\", fp:=np.mean(y_pred[:len(df_b)]))\n",
    "plt.hist(y_pred[:len(df_b)], bins=50, range=(0,1), alpha=0.5, label='background', color='r')\n",
    "plt.hist(y_pred[len(df_b):], bins=50, range=(0,1), alpha=0.5, label='signal', color='b')\n",
    "plt.legend()\n",
    "plt.axvline(s, color='r')\n",
    "plt.axvline(fp, color='b')"
   ]
  },
  {
   "cell_type": "code",
   "execution_count": null,
   "metadata": {},
   "outputs": [],
   "source": []
  }
 ],
 "metadata": {
  "kernelspec": {
   "display_name": "Python 3 (ipykernel)",
   "language": "python",
   "name": "python3"
  },
  "language_info": {
   "codemirror_mode": {
    "name": "ipython",
    "version": 3
   },
   "file_extension": ".py",
   "mimetype": "text/x-python",
   "name": "python",
   "nbconvert_exporter": "python",
   "pygments_lexer": "ipython3",
   "version": "3.10.12"
  }
 },
 "nbformat": 4,
 "nbformat_minor": 2
}
