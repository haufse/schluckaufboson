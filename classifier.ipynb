{
 "cells": [
  {
   "cell_type": "markdown",
   "metadata": {},
   "source": [
    "# Training a background - signal classifier"
   ]
  },
  {
   "cell_type": "code",
   "execution_count": 1,
   "metadata": {},
   "outputs": [],
   "source": [
    "import uproot\n",
    "import numpy as np\n",
    "import matplotlib.pyplot as plt\n",
    "from scipy.optimize import curve_fit\n",
    "import os\n",
    "import utils\n",
    "import pandas as pd\n",
    "import sklearn\n",
    "from sklearn.preprocessing import StandardScaler\n",
    "\n",
    "cwd = os.getcwd()\n",
    "#import mplhep as hep\n",
    "plt.rcParams.update({\n",
    "    \"text.usetex\": True,\n",
    "    \"font.family\": \"serif\"\n",
    "})\n",
    "%load_ext autoreload\n",
    "%autoreload 2"
   ]
  },
  {
   "cell_type": "code",
   "execution_count": 2,
   "metadata": {},
   "outputs": [],
   "source": [
    "# parameters\n",
    "bw = 1"
   ]
  },
  {
   "cell_type": "code",
   "execution_count": 3,
   "metadata": {},
   "outputs": [],
   "source": [
    "# Load the ROOT file\n",
    "file_paths = [f\"../proj/GamGam/Data/data_{x}.GamGam.root\" for x in ['A', 'B', 'C', 'D']]  # Update with your file path\n",
    "tree_name = \"mini\"  # The tree name based on the provided data structure"
   ]
  },
  {
   "cell_type": "code",
   "execution_count": 4,
   "metadata": {},
   "outputs": [
    {
     "name": "stderr",
     "output_type": "stream",
     "text": [
      "100%|██████████| 4/4 [02:51<00:00, 42.79s/it]\n"
     ]
    }
   ],
   "source": [
    "# Example usage\n",
    "# file_paths = [...]  # List of file paths to process\n",
    "tree_name = \"mini\"  # Replace with your actual tree name\n",
    "combined_df = utils.process_files_parallel(file_paths)\n"
   ]
  },
  {
   "cell_type": "code",
   "execution_count": 5,
   "metadata": {},
   "outputs": [
    {
     "name": "stderr",
     "output_type": "stream",
     "text": [
      "100%|██████████| 1/1 [00:24<00:00, 24.16s/it]\n",
      "100%|██████████| 1/1 [00:40<00:00, 40.21s/it]\n",
      "100%|██████████| 1/1 [00:21<00:00, 21.53s/it]\n",
      "100%|██████████| 1/1 [00:08<00:00,  8.94s/it]\n",
      "100%|██████████| 1/1 [00:12<00:00, 12.66s/it]\n"
     ]
    }
   ],
   "source": [
    "signal_paths = [f\"../proj/GamGam/MC/mc_34{x}_gamgam.GamGam.root\" for x in ['1081.ttH125', '3981.ggH125', '5041.VBFH125', '5318.WpH125J_Wincl', '5319.ZH125J_Zincl']]\n",
    "signal_dfs = {}\n",
    "for x, pth in zip(['tt', 'gg', 'VBF', 'Wp', 'Z'], signal_paths):\n",
    "    signal_dfs[x] = utils.process_files_parallel([pth])"
   ]
  },
  {
   "cell_type": "code",
   "execution_count": 6,
   "metadata": {},
   "outputs": [
    {
     "data": {
      "text/html": [
       "<div>\n",
       "<style scoped>\n",
       "    .dataframe tbody tr th:only-of-type {\n",
       "        vertical-align: middle;\n",
       "    }\n",
       "\n",
       "    .dataframe tbody tr th {\n",
       "        vertical-align: top;\n",
       "    }\n",
       "\n",
       "    .dataframe thead th {\n",
       "        text-align: right;\n",
       "    }\n",
       "</style>\n",
       "<table border=\"1\" class=\"dataframe\">\n",
       "  <thead>\n",
       "    <tr style=\"text-align: right;\">\n",
       "      <th></th>\n",
       "      <th>runNumber</th>\n",
       "      <th>eventNumber</th>\n",
       "      <th>invariant_mass</th>\n",
       "      <th>photon_isTightID</th>\n",
       "      <th>photon_ptcone30</th>\n",
       "      <th>photon_etcon20</th>\n",
       "      <th>photon_trigMatched</th>\n",
       "      <th>jet_n</th>\n",
       "      <th>lep_n</th>\n",
       "      <th>met_et</th>\n",
       "      <th>met_phi</th>\n",
       "    </tr>\n",
       "  </thead>\n",
       "  <tbody>\n",
       "    <tr>\n",
       "      <th>0</th>\n",
       "      <td>284500</td>\n",
       "      <td>674070</td>\n",
       "      <td>126.708076</td>\n",
       "      <td>[True, True]</td>\n",
       "      <td>[0.0, 0.0]</td>\n",
       "      <td>[21.419776916503906, -57.1335334777832]</td>\n",
       "      <td>[True, True]</td>\n",
       "      <td>2</td>\n",
       "      <td>1</td>\n",
       "      <td>188260.203125</td>\n",
       "      <td>2.399675</td>\n",
       "    </tr>\n",
       "    <tr>\n",
       "      <th>1</th>\n",
       "      <td>284500</td>\n",
       "      <td>674033</td>\n",
       "      <td>128.056027</td>\n",
       "      <td>[True, True]</td>\n",
       "      <td>[0.0, 0.0]</td>\n",
       "      <td>[-1700.162841796875, 234.0577392578125]</td>\n",
       "      <td>[True, True]</td>\n",
       "      <td>6</td>\n",
       "      <td>1</td>\n",
       "      <td>22065.056641</td>\n",
       "      <td>0.832829</td>\n",
       "    </tr>\n",
       "    <tr>\n",
       "      <th>2</th>\n",
       "      <td>284500</td>\n",
       "      <td>674129</td>\n",
       "      <td>118.224988</td>\n",
       "      <td>[True, True]</td>\n",
       "      <td>[6868.8984375, 1337.672119140625]</td>\n",
       "      <td>[5708.00341796875, 2935.94970703125]</td>\n",
       "      <td>[True, True]</td>\n",
       "      <td>5</td>\n",
       "      <td>0</td>\n",
       "      <td>60637.968750</td>\n",
       "      <td>-1.505820</td>\n",
       "    </tr>\n",
       "    <tr>\n",
       "      <th>3</th>\n",
       "      <td>284500</td>\n",
       "      <td>674306</td>\n",
       "      <td>124.013825</td>\n",
       "      <td>[True, False]</td>\n",
       "      <td>[0.0, 0.0]</td>\n",
       "      <td>[1173.0177001953125, -934.2145385742188]</td>\n",
       "      <td>[True, True]</td>\n",
       "      <td>4</td>\n",
       "      <td>1</td>\n",
       "      <td>159180.937500</td>\n",
       "      <td>-2.028939</td>\n",
       "    </tr>\n",
       "    <tr>\n",
       "      <th>4</th>\n",
       "      <td>284500</td>\n",
       "      <td>674312</td>\n",
       "      <td>126.783073</td>\n",
       "      <td>[True, True]</td>\n",
       "      <td>[0.0, 1839.82373046875]</td>\n",
       "      <td>[-2719.704833984375, -554.8275756835938]</td>\n",
       "      <td>[True, True]</td>\n",
       "      <td>6</td>\n",
       "      <td>1</td>\n",
       "      <td>38054.359375</td>\n",
       "      <td>0.950663</td>\n",
       "    </tr>\n",
       "  </tbody>\n",
       "</table>\n",
       "</div>"
      ],
      "text/plain": [
       "   runNumber  eventNumber  invariant_mass photon_isTightID  \\\n",
       "0     284500       674070      126.708076     [True, True]   \n",
       "1     284500       674033      128.056027     [True, True]   \n",
       "2     284500       674129      118.224988     [True, True]   \n",
       "3     284500       674306      124.013825    [True, False]   \n",
       "4     284500       674312      126.783073     [True, True]   \n",
       "\n",
       "                     photon_ptcone30  \\\n",
       "0                         [0.0, 0.0]   \n",
       "1                         [0.0, 0.0]   \n",
       "2  [6868.8984375, 1337.672119140625]   \n",
       "3                         [0.0, 0.0]   \n",
       "4            [0.0, 1839.82373046875]   \n",
       "\n",
       "                             photon_etcon20 photon_trigMatched  jet_n  lep_n  \\\n",
       "0   [21.419776916503906, -57.1335334777832]       [True, True]      2      1   \n",
       "1   [-1700.162841796875, 234.0577392578125]       [True, True]      6      1   \n",
       "2      [5708.00341796875, 2935.94970703125]       [True, True]      5      0   \n",
       "3  [1173.0177001953125, -934.2145385742188]       [True, True]      4      1   \n",
       "4  [-2719.704833984375, -554.8275756835938]       [True, True]      6      1   \n",
       "\n",
       "          met_et   met_phi  \n",
       "0  188260.203125  2.399675  \n",
       "1   22065.056641  0.832829  \n",
       "2   60637.968750 -1.505820  \n",
       "3  159180.937500 -2.028939  \n",
       "4   38054.359375  0.950663  "
      ]
     },
     "execution_count": 6,
     "metadata": {},
     "output_type": "execute_result"
    }
   ],
   "source": [
    "signal_dfs['tt'].head()"
   ]
  },
  {
   "cell_type": "code",
   "execution_count": 7,
   "metadata": {},
   "outputs": [
    {
     "data": {
      "text/plain": [
       "(491139, 11)"
      ]
     },
     "execution_count": 7,
     "metadata": {},
     "output_type": "execute_result"
    }
   ],
   "source": [
    "signal_dfs['VBF'].shape"
   ]
  },
  {
   "cell_type": "code",
   "execution_count": 8,
   "metadata": {},
   "outputs": [
    {
     "data": {
      "text/html": [
       "<div>\n",
       "<style scoped>\n",
       "    .dataframe tbody tr th:only-of-type {\n",
       "        vertical-align: middle;\n",
       "    }\n",
       "\n",
       "    .dataframe tbody tr th {\n",
       "        vertical-align: top;\n",
       "    }\n",
       "\n",
       "    .dataframe thead th {\n",
       "        text-align: right;\n",
       "    }\n",
       "</style>\n",
       "<table border=\"1\" class=\"dataframe\">\n",
       "  <thead>\n",
       "    <tr style=\"text-align: right;\">\n",
       "      <th></th>\n",
       "      <th>runNumber</th>\n",
       "      <th>eventNumber</th>\n",
       "      <th>invariant_mass</th>\n",
       "      <th>photon_trigMatched</th>\n",
       "      <th>jet_n</th>\n",
       "      <th>lep_n</th>\n",
       "      <th>met_et</th>\n",
       "      <th>met_phi</th>\n",
       "      <th>photon1_isTightID</th>\n",
       "      <th>photon2_isTightID</th>\n",
       "      <th>photon1_ptcone30</th>\n",
       "      <th>photon2_ptcone30</th>\n",
       "      <th>photon1_etcon20</th>\n",
       "      <th>photon2_etcon20</th>\n",
       "    </tr>\n",
       "  </thead>\n",
       "  <tbody>\n",
       "    <tr>\n",
       "      <th>0</th>\n",
       "      <td>297730</td>\n",
       "      <td>1540777</td>\n",
       "      <td>170.207956</td>\n",
       "      <td>[True, True]</td>\n",
       "      <td>4</td>\n",
       "      <td>0</td>\n",
       "      <td>46997.636719</td>\n",
       "      <td>1.633800</td>\n",
       "      <td>0.0</td>\n",
       "      <td>0.0</td>\n",
       "      <td>0.000000</td>\n",
       "      <td>54738.847656</td>\n",
       "      <td>1209.197266</td>\n",
       "      <td>575.043579</td>\n",
       "    </tr>\n",
       "    <tr>\n",
       "      <th>1</th>\n",
       "      <td>297730</td>\n",
       "      <td>1713779</td>\n",
       "      <td>110.461619</td>\n",
       "      <td>[True, True]</td>\n",
       "      <td>0</td>\n",
       "      <td>0</td>\n",
       "      <td>28530.031250</td>\n",
       "      <td>-2.313051</td>\n",
       "      <td>0.0</td>\n",
       "      <td>0.0</td>\n",
       "      <td>5506.991699</td>\n",
       "      <td>11680.041992</td>\n",
       "      <td>5396.233398</td>\n",
       "      <td>2005.253174</td>\n",
       "    </tr>\n",
       "    <tr>\n",
       "      <th>2</th>\n",
       "      <td>297730</td>\n",
       "      <td>1761929</td>\n",
       "      <td>79.565279</td>\n",
       "      <td>[True, True]</td>\n",
       "      <td>3</td>\n",
       "      <td>0</td>\n",
       "      <td>11786.607422</td>\n",
       "      <td>2.009590</td>\n",
       "      <td>0.0</td>\n",
       "      <td>0.0</td>\n",
       "      <td>3902.340576</td>\n",
       "      <td>16578.074219</td>\n",
       "      <td>3261.838867</td>\n",
       "      <td>21145.144531</td>\n",
       "    </tr>\n",
       "    <tr>\n",
       "      <th>3</th>\n",
       "      <td>297730</td>\n",
       "      <td>1765304</td>\n",
       "      <td>65.320374</td>\n",
       "      <td>[True, True]</td>\n",
       "      <td>0</td>\n",
       "      <td>0</td>\n",
       "      <td>53329.449219</td>\n",
       "      <td>-1.516588</td>\n",
       "      <td>1.0</td>\n",
       "      <td>1.0</td>\n",
       "      <td>0.000000</td>\n",
       "      <td>0.000000</td>\n",
       "      <td>-23.805450</td>\n",
       "      <td>-614.493652</td>\n",
       "    </tr>\n",
       "    <tr>\n",
       "      <th>4</th>\n",
       "      <td>297730</td>\n",
       "      <td>1651552</td>\n",
       "      <td>74.342131</td>\n",
       "      <td>[True, True]</td>\n",
       "      <td>2</td>\n",
       "      <td>0</td>\n",
       "      <td>81126.132812</td>\n",
       "      <td>3.051861</td>\n",
       "      <td>0.0</td>\n",
       "      <td>0.0</td>\n",
       "      <td>8417.575195</td>\n",
       "      <td>0.000000</td>\n",
       "      <td>2472.889648</td>\n",
       "      <td>495.952545</td>\n",
       "    </tr>\n",
       "  </tbody>\n",
       "</table>\n",
       "</div>"
      ],
      "text/plain": [
       "   runNumber  eventNumber  invariant_mass photon_trigMatched  jet_n  lep_n  \\\n",
       "0     297730      1540777      170.207956       [True, True]      4      0   \n",
       "1     297730      1713779      110.461619       [True, True]      0      0   \n",
       "2     297730      1761929       79.565279       [True, True]      3      0   \n",
       "3     297730      1765304       65.320374       [True, True]      0      0   \n",
       "4     297730      1651552       74.342131       [True, True]      2      0   \n",
       "\n",
       "         met_et   met_phi  photon1_isTightID  photon2_isTightID  \\\n",
       "0  46997.636719  1.633800                0.0                0.0   \n",
       "1  28530.031250 -2.313051                0.0                0.0   \n",
       "2  11786.607422  2.009590                0.0                0.0   \n",
       "3  53329.449219 -1.516588                1.0                1.0   \n",
       "4  81126.132812  3.051861                0.0                0.0   \n",
       "\n",
       "   photon1_ptcone30  photon2_ptcone30  photon1_etcon20  photon2_etcon20  \n",
       "0          0.000000      54738.847656      1209.197266       575.043579  \n",
       "1       5506.991699      11680.041992      5396.233398      2005.253174  \n",
       "2       3902.340576      16578.074219      3261.838867     21145.144531  \n",
       "3          0.000000          0.000000       -23.805450      -614.493652  \n",
       "4       8417.575195          0.000000      2472.889648       495.952545  "
      ]
     },
     "execution_count": 8,
     "metadata": {},
     "output_type": "execute_result"
    }
   ],
   "source": [
    "def split_photon_columns(df):\n",
    "    \"\"\"\n",
    "    Split columns containing list entries (photon_isTightID, photon_ptcone30, photon_etcon20)\n",
    "    into separate columns for each photon.\n",
    "\n",
    "    Parameters:\n",
    "    - df: DataFrame containing the original columns with list entries.\n",
    "\n",
    "    Returns:\n",
    "    - df: Modified DataFrame with split columns.\n",
    "    \"\"\"\n",
    "    # Split the 'photon_isTightID' column into 'photon1_isTightID' and 'photon2_isTightID'\n",
    "    df2 = df.copy()\n",
    "    df2['photon1_isTightID'] = df2['photon_isTightID'].apply(lambda x: float(x[0]) if len(x) > 0 else None)\n",
    "    df2['photon2_isTightID'] = df2['photon_isTightID'].apply(lambda x: float(x[1]) if len(x) > 1 else None)\n",
    "\n",
    "    # Split the 'photon_ptcone30' column into 'photon1_ptcone30' and 'photon2_ptcone30'\n",
    "    df2['photon1_ptcone30'] = df2['photon_ptcone30'].apply(lambda x: x[0] if len(x) > 0 else None)\n",
    "    df2['photon2_ptcone30'] = df2['photon_ptcone30'].apply(lambda x: x[1] if len(x) > 1 else None)\n",
    "\n",
    "    # Split the 'photon_etcon20' column into 'photon1_etcon20' and 'photon2_etcon20'\n",
    "    df2['photon1_etcon20'] = df2['photon_etcon20'].apply(lambda x: x[0] if len(x) > 0 else None)\n",
    "    df2['photon2_etcon20'] = df2['photon_etcon20'].apply(lambda x: x[1] if len(x) > 1 else None)\n",
    "\n",
    "    # Drop the original columns with list entries\n",
    "    df2.drop(['photon_isTightID', 'photon_ptcone30', 'photon_etcon20'], axis=1, inplace=True)\n",
    "\n",
    "    return df2\n",
    "\n",
    "# Apply the function to split the photon columns\n",
    "split_combined_df = split_photon_columns(combined_df)\n",
    "split_combined_df.head()"
   ]
  },
  {
   "cell_type": "code",
   "execution_count": 9,
   "metadata": {},
   "outputs": [
    {
     "data": {
      "text/html": [
       "<div>\n",
       "<style scoped>\n",
       "    .dataframe tbody tr th:only-of-type {\n",
       "        vertical-align: middle;\n",
       "    }\n",
       "\n",
       "    .dataframe tbody tr th {\n",
       "        vertical-align: top;\n",
       "    }\n",
       "\n",
       "    .dataframe thead th {\n",
       "        text-align: right;\n",
       "    }\n",
       "</style>\n",
       "<table border=\"1\" class=\"dataframe\">\n",
       "  <thead>\n",
       "    <tr style=\"text-align: right;\">\n",
       "      <th></th>\n",
       "      <th>runNumber</th>\n",
       "      <th>eventNumber</th>\n",
       "      <th>invariant_mass</th>\n",
       "      <th>photon_trigMatched</th>\n",
       "      <th>jet_n</th>\n",
       "      <th>lep_n</th>\n",
       "      <th>met_et</th>\n",
       "      <th>met_phi</th>\n",
       "      <th>photon1_isTightID</th>\n",
       "      <th>photon2_isTightID</th>\n",
       "      <th>photon1_ptcone30</th>\n",
       "      <th>photon2_ptcone30</th>\n",
       "      <th>photon1_etcon20</th>\n",
       "      <th>photon2_etcon20</th>\n",
       "    </tr>\n",
       "  </thead>\n",
       "  <tbody>\n",
       "    <tr>\n",
       "      <th>0</th>\n",
       "      <td>284500</td>\n",
       "      <td>674070</td>\n",
       "      <td>126.708076</td>\n",
       "      <td>[True, True]</td>\n",
       "      <td>2</td>\n",
       "      <td>1</td>\n",
       "      <td>188260.203125</td>\n",
       "      <td>2.399675</td>\n",
       "      <td>1.0</td>\n",
       "      <td>1.0</td>\n",
       "      <td>0.000000</td>\n",
       "      <td>0.000000</td>\n",
       "      <td>21.419777</td>\n",
       "      <td>-57.133533</td>\n",
       "    </tr>\n",
       "    <tr>\n",
       "      <th>1</th>\n",
       "      <td>284500</td>\n",
       "      <td>674033</td>\n",
       "      <td>128.056027</td>\n",
       "      <td>[True, True]</td>\n",
       "      <td>6</td>\n",
       "      <td>1</td>\n",
       "      <td>22065.056641</td>\n",
       "      <td>0.832829</td>\n",
       "      <td>1.0</td>\n",
       "      <td>1.0</td>\n",
       "      <td>0.000000</td>\n",
       "      <td>0.000000</td>\n",
       "      <td>-1700.162842</td>\n",
       "      <td>234.057739</td>\n",
       "    </tr>\n",
       "    <tr>\n",
       "      <th>2</th>\n",
       "      <td>284500</td>\n",
       "      <td>674129</td>\n",
       "      <td>118.224988</td>\n",
       "      <td>[True, True]</td>\n",
       "      <td>5</td>\n",
       "      <td>0</td>\n",
       "      <td>60637.968750</td>\n",
       "      <td>-1.505820</td>\n",
       "      <td>1.0</td>\n",
       "      <td>1.0</td>\n",
       "      <td>6868.898438</td>\n",
       "      <td>1337.672119</td>\n",
       "      <td>5708.003418</td>\n",
       "      <td>2935.949707</td>\n",
       "    </tr>\n",
       "    <tr>\n",
       "      <th>3</th>\n",
       "      <td>284500</td>\n",
       "      <td>674306</td>\n",
       "      <td>124.013825</td>\n",
       "      <td>[True, True]</td>\n",
       "      <td>4</td>\n",
       "      <td>1</td>\n",
       "      <td>159180.937500</td>\n",
       "      <td>-2.028939</td>\n",
       "      <td>1.0</td>\n",
       "      <td>0.0</td>\n",
       "      <td>0.000000</td>\n",
       "      <td>0.000000</td>\n",
       "      <td>1173.017700</td>\n",
       "      <td>-934.214539</td>\n",
       "    </tr>\n",
       "    <tr>\n",
       "      <th>4</th>\n",
       "      <td>284500</td>\n",
       "      <td>674312</td>\n",
       "      <td>126.783073</td>\n",
       "      <td>[True, True]</td>\n",
       "      <td>6</td>\n",
       "      <td>1</td>\n",
       "      <td>38054.359375</td>\n",
       "      <td>0.950663</td>\n",
       "      <td>1.0</td>\n",
       "      <td>1.0</td>\n",
       "      <td>0.000000</td>\n",
       "      <td>1839.823730</td>\n",
       "      <td>-2719.704834</td>\n",
       "      <td>-554.827576</td>\n",
       "    </tr>\n",
       "  </tbody>\n",
       "</table>\n",
       "</div>"
      ],
      "text/plain": [
       "   runNumber  eventNumber  invariant_mass photon_trigMatched  jet_n  lep_n  \\\n",
       "0     284500       674070      126.708076       [True, True]      2      1   \n",
       "1     284500       674033      128.056027       [True, True]      6      1   \n",
       "2     284500       674129      118.224988       [True, True]      5      0   \n",
       "3     284500       674306      124.013825       [True, True]      4      1   \n",
       "4     284500       674312      126.783073       [True, True]      6      1   \n",
       "\n",
       "          met_et   met_phi  photon1_isTightID  photon2_isTightID  \\\n",
       "0  188260.203125  2.399675                1.0                1.0   \n",
       "1   22065.056641  0.832829                1.0                1.0   \n",
       "2   60637.968750 -1.505820                1.0                1.0   \n",
       "3  159180.937500 -2.028939                1.0                0.0   \n",
       "4   38054.359375  0.950663                1.0                1.0   \n",
       "\n",
       "   photon1_ptcone30  photon2_ptcone30  photon1_etcon20  photon2_etcon20  \n",
       "0          0.000000          0.000000        21.419777       -57.133533  \n",
       "1          0.000000          0.000000     -1700.162842       234.057739  \n",
       "2       6868.898438       1337.672119      5708.003418      2935.949707  \n",
       "3          0.000000          0.000000      1173.017700      -934.214539  \n",
       "4          0.000000       1839.823730     -2719.704834      -554.827576  "
      ]
     },
     "execution_count": 9,
     "metadata": {},
     "output_type": "execute_result"
    }
   ],
   "source": [
    "split_signal_dfs = {}\n",
    "for x in ['tt', 'gg', 'VBF', 'Wp', 'Z']:\n",
    "    split_signal_dfs[x] = split_photon_columns(signal_dfs[x])\n",
    "split_signal_dfs['tt'].head()"
   ]
  },
  {
   "cell_type": "markdown",
   "metadata": {},
   "source": [
    "## Save files before training"
   ]
  },
  {
   "cell_type": "code",
   "execution_count": 10,
   "metadata": {},
   "outputs": [],
   "source": [
    "import pickle as pkl\n",
    "pkl.dump(split_combined_df, open('split_combined_df.pkl','wb'))\n",
    "pkl.dump(split_signal_dfs, open('split_signal_dfs.pkl','wb'))"
   ]
  },
  {
   "cell_type": "markdown",
   "metadata": {},
   "source": [
    "# Load trained model"
   ]
  },
  {
   "cell_type": "code",
   "execution_count": 12,
   "metadata": {},
   "outputs": [
    {
     "name": "stdout",
     "output_type": "stream",
     "text": [
      "Model loaded and ready for use.\n"
     ]
    },
    {
     "name": "stderr",
     "output_type": "stream",
     "text": [
      "/tmp/ipykernel_9401/2219245854.py:26: FutureWarning: You are using `torch.load` with `weights_only=False` (the current default value), which uses the default pickle module implicitly. It is possible to construct malicious pickle data which will execute arbitrary code during unpickling (See https://github.com/pytorch/pytorch/blob/main/SECURITY.md#untrusted-models for more details). In a future release, the default value for `weights_only` will be flipped to `True`. This limits the functions that could be executed during unpickling. Arbitrary objects will no longer be allowed to be loaded via this mode unless they are explicitly allowlisted by the user via `torch.serialization.add_safe_globals`. We recommend you start setting `weights_only=True` for any use case where you don't have full control of the loaded file. Please open an issue on GitHub for any issues related to this experimental feature.\n",
      "  model.load_state_dict(torch.load(model_load_path, map_location=torch.device('cpu')))\n"
     ]
    }
   ],
   "source": [
    "# Define your model class (must match the architecture used for training)\n",
    "import torch.nn as nn\n",
    "import torch\n",
    "\n",
    "class SimpleNN(nn.Module):\n",
    "    def __init__(self, input_size, hidden_size1=64, hidden_size2=32):\n",
    "        super(SimpleNN, self).__init__()\n",
    "        self.fc1 = nn.Linear(input_size, hidden_size1)\n",
    "        self.relu1 = nn.ReLU()\n",
    "        self.fc2 = nn.Linear(hidden_size1, hidden_size2)\n",
    "        self.relu2 = nn.ReLU()\n",
    "        self.fc3 = nn.Linear(hidden_size2, 2)\n",
    "\n",
    "    def forward(self, x):\n",
    "        x = self.relu1(self.fc1(x))\n",
    "        x = self.relu2(self.fc2(x))\n",
    "        x = self.fc3(x)\n",
    "        return x\n",
    "\n",
    "# Initialize the model\n",
    "input_size = 11  # Number of input features (adjust based on your dataset)\n",
    "model = SimpleNN(input_size)\n",
    "\n",
    "# Load the model's state dict from the saved file\n",
    "model_load_path = 'saved_model.pth'  # Path to the downloaded file\n",
    "model.load_state_dict(torch.load(model_load_path, map_location=torch.device('cpu')))\n",
    "\n",
    "# Set the model to evaluation mode\n",
    "model.eval()\n",
    "\n",
    "print(\"Model loaded and ready for use.\")"
   ]
  },
  {
   "cell_type": "code",
   "execution_count": 24,
   "metadata": {},
   "outputs": [
    {
     "data": {
      "text/plain": [
       "tensor([ 1.0247, -2.0167], grad_fn=<ViewBackward0>)"
      ]
     },
     "execution_count": 24,
     "metadata": {},
     "output_type": "execute_result"
    }
   ],
   "source": [
    "model(X_tensor[0])"
   ]
  },
  {
   "cell_type": "markdown",
   "metadata": {},
   "source": [
    "# Train a neuronal net"
   ]
  },
  {
   "cell_type": "code",
   "execution_count": 20,
   "metadata": {},
   "outputs": [],
   "source": [
    "import torch\n",
    "import torch.nn as nn\n",
    "import torch.optim as optim\n",
    "from torch.utils.data import DataLoader, TensorDataset, random_split"
   ]
  },
  {
   "cell_type": "code",
   "execution_count": 21,
   "metadata": {},
   "outputs": [],
   "source": [
    "split_combined_df['label'] = 0  # Background label\n",
    "for x in ['tt', 'gg', 'VBF', 'Wp', 'Z']:\n",
    "    split_signal_dfs[x]['label'] = 1  # Signal label\n",
    "deepl_df = pd.concat([split_combined_df, \n",
    "                      split_signal_dfs['tt'], \n",
    "                      split_signal_dfs['gg'], \n",
    "                      split_signal_dfs['VBF'], \n",
    "                      split_signal_dfs['Wp'], \n",
    "                      split_signal_dfs['Z'], \n",
    "                      split_signal_dfs['tt'], \n",
    "                      split_signal_dfs['gg'], \n",
    "                      split_signal_dfs['VBF'], \n",
    "                      split_signal_dfs['Wp'], \n",
    "                      split_signal_dfs['Z'], \n",
    "                      split_signal_dfs['tt'], \n",
    "                      split_signal_dfs['gg'], \n",
    "                      split_signal_dfs['VBF'], \n",
    "                      split_signal_dfs['Wp'], \n",
    "                      split_signal_dfs['Z']\n",
    "                      ], ignore_index=True)"
   ]
  },
  {
   "cell_type": "code",
   "execution_count": 22,
   "metadata": {},
   "outputs": [
    {
     "data": {
      "text/plain": [
       "((7772074, 15), (15075928, 15))"
      ]
     },
     "execution_count": 22,
     "metadata": {},
     "output_type": "execute_result"
    }
   ],
   "source": [
    "split_combined_df.shape, deepl_df.shape"
   ]
  },
  {
   "cell_type": "code",
   "execution_count": 23,
   "metadata": {},
   "outputs": [],
   "source": [
    "# Select feature columns and the label column\n",
    "feature_columns = ['invariant_mass', \n",
    "                   'photon1_isTightID', 'photon2_isTightID', \n",
    "                   'photon1_ptcone30', 'photon2_ptcone30', 'photon1_etcon20', \n",
    "                   'photon2_etcon20', 'jet_n', 'lep_n', 'met_et', 'met_phi']\n",
    "X = deepl_df[feature_columns].values\n",
    "y = deepl_df['label'].values\n",
    "\n",
    "# Normalize the features for better neural network performance\n",
    "scaler = StandardScaler()\n",
    "X_scaled = scaler.fit_transform(X)\n",
    "\n",
    "# Convert the data to PyTorch tensors\n",
    "X_tensor = torch.tensor(X_scaled, dtype=torch.float32)\n",
    "y_tensor = torch.tensor(y, dtype=torch.long)\n",
    "\n",
    "# Create a PyTorch dataset and data loader\n",
    "dataset = TensorDataset(X_tensor, y_tensor)\n",
    "\n",
    "# Split into training and test sets\n",
    "train_size = int(0.8 * len(dataset))\n",
    "test_size = len(dataset) - train_size\n",
    "train_dataset, test_dataset = random_split(dataset, [train_size, test_size])\n",
    "\n",
    "# Create data loaders\n",
    "train_loader = DataLoader(train_dataset, batch_size=64, shuffle=True)\n",
    "test_loader = DataLoader(test_dataset, batch_size=64, shuffle=False)"
   ]
  },
  {
   "cell_type": "code",
   "execution_count": 19,
   "metadata": {},
   "outputs": [],
   "source": [
    "class SimpleNN(nn.Module):\n",
    "    def __init__(self, input_size, hidden_size1=64, hidden_size2=32):\n",
    "        super(SimpleNN, self).__init__()\n",
    "        # Define the layers\n",
    "        self.fc1 = nn.Linear(input_size, hidden_size1)\n",
    "        self.relu1 = nn.ReLU()\n",
    "        self.fc2 = nn.Linear(hidden_size1, hidden_size2)\n",
    "        self.relu2 = nn.ReLU()\n",
    "        self.fc3 = nn.Linear(hidden_size2, 2)  # Output layer (2 classes: signal or background)\n",
    "\n",
    "    def forward(self, x):\n",
    "        # Forward pass through the network\n",
    "        x = self.relu1(self.fc1(x))\n",
    "        x = self.relu2(self.fc2(x))\n",
    "        x = self.fc3(x)\n",
    "        return x\n",
    "\n",
    "# Initialize the network\n",
    "input_size = len(feature_columns)\n",
    "model = SimpleNN(input_size)"
   ]
  },
  {
   "cell_type": "code",
   "execution_count": 21,
   "metadata": {},
   "outputs": [
    {
     "name": "stdout",
     "output_type": "stream",
     "text": [
      "Epoch [1/5], Loss: 0.0128\n",
      "Epoch [2/5], Loss: 0.0127\n",
      "Epoch [3/5], Loss: 0.0140\n",
      "Epoch [4/5], Loss: 0.0128\n",
      "Epoch [5/5], Loss: 0.0127\n",
      "Training finished.\n"
     ]
    }
   ],
   "source": [
    "# Define loss function and optimizer\n",
    "criterion = nn.CrossEntropyLoss()\n",
    "optimizer = optim.Adam(model.parameters(), lr=0.001)\n",
    "\n",
    "# Training loop\n",
    "num_epochs = 5\n",
    "\n",
    "for epoch in range(num_epochs):\n",
    "    model.train()  # Set the model to training mode\n",
    "    running_loss = 0.0\n",
    "    \n",
    "    for inputs, labels in train_loader:\n",
    "        # Zero the parameter gradients\n",
    "        optimizer.zero_grad()\n",
    "        \n",
    "        # Forward pass\n",
    "        outputs = model(inputs)\n",
    "        loss = criterion(outputs, labels)\n",
    "        \n",
    "        # Backward pass and optimize\n",
    "        loss.backward()\n",
    "        optimizer.step()\n",
    "        \n",
    "        running_loss += loss.item()\n",
    "    \n",
    "    print(f'Epoch [{epoch + 1}/{num_epochs}], Loss: {running_loss / len(train_loader):.4f}')\n",
    "\n",
    "# Training complete\n",
    "print('Training finished.')"
   ]
  },
  {
   "cell_type": "code",
   "execution_count": 22,
   "metadata": {},
   "outputs": [
    {
     "name": "stdout",
     "output_type": "stream",
     "text": [
      "Accuracy of the model on the test set: 99.57%\n"
     ]
    }
   ],
   "source": [
    "# Evaluate the model on the test set\n",
    "model.eval()  # Set the model to evaluation mode\n",
    "correct = 0\n",
    "total = 0\n",
    "\n",
    "with torch.no_grad():  # Disable gradient calculation\n",
    "    for inputs, labels in test_loader:\n",
    "        outputs = model(inputs)\n",
    "        _, predicted = torch.max(outputs, 1)\n",
    "        total += labels.size(0)\n",
    "        correct += (predicted == labels).sum().item()\n",
    "\n",
    "accuracy = 100 * correct / total\n",
    "print(f'Accuracy of the model on the test set: {accuracy:.2f}%')"
   ]
  },
  {
   "cell_type": "markdown",
   "metadata": {},
   "source": [
    "# Old stuff"
   ]
  },
  {
   "cell_type": "code",
   "execution_count": 30,
   "metadata": {},
   "outputs": [],
   "source": [
    "fltr = False\n",
    "if filter:\n",
    "    filtered_df = combined_df[\n",
    "    (combined_df['photon_isTightID'].apply(lambda x: x == [True, True])) &  # Both photons are tight\n",
    "    (combined_df['photon_ptcone30'].apply(lambda x: min(x) > 25)) &              # Both photons have pt > 25 GeV\n",
    "    (combined_df['jet_n'] >= 2) &                                          # At least two jets\n",
    "    (combined_df['met_et'] > 30) &                                         # Missing ET > 30 GeV\n",
    "    (combined_df['invariant_mass'].between(100, 150))                      # Invariant mass between 110 and 140 GeV\n",
    "    ]\n",
    "else:\n",
    "    filtered_df = combined_df\n",
    "    filtered_A = df_A"
   ]
  },
  {
   "cell_type": "code",
   "execution_count": 31,
   "metadata": {},
   "outputs": [
    {
     "data": {
      "image/png": "[encoded data removed]",
      "text/plain": [
       "<Figure size 1000x600 with 1 Axes>"
      ]
     },
     "metadata": {},
     "output_type": "display_data"
    }
   ],
   "source": [
    "plt.figure(figsize=(10, 6))\n",
    "counts, bin_edges, _ =  plt.hist(filtered_df[\"invariant_mass\"], bins=np.arange(100, 150 + bw, bw))\n",
    "plt.title('Invariant Mass of Photon Pairs')\n",
    "plt.xlabel('Invariant Mass (GeV)')\n",
    "plt.ylabel('Number of Events')\n",
    "plt.show()"
   ]
  },
  {
   "cell_type": "code",
   "execution_count": 32,
   "metadata": {},
   "outputs": [
    {
     "data": {
      "image/png": "[encoded data removed]",
      "text/plain": [
       "<Figure size 640x480 with 1 Axes>"
      ]
     },
     "metadata": {},
     "output_type": "display_data"
    }
   ],
   "source": [
    "bin_centers = (bin_edges[:-1] + bin_edges[1:]) / 2\n",
    "popt, pcov = utils.fit_histogram_exponential(counts, bin_edges, range_fit=(100, 150))"
   ]
  },
  {
   "cell_type": "code",
   "execution_count": 24,
   "metadata": {},
   "outputs": [
    {
     "data": {
      "image/png": "[encoded data removed]",
      "text/plain": [
       "<Figure size 1000x600 with 1 Axes>"
      ]
     },
     "metadata": {},
     "output_type": "display_data"
    }
   ],
   "source": [
    "plt.figure(figsize=(10, 6))\n",
    "counts_A, bin_edges_A, _ =  plt.hist(filtered_A[\"invariant_mass\"], bins=np.arange(100, 150 + bw, bw))\n",
    "plt.title('Invariant Mass of Photon Pairs')\n",
    "plt.xlabel('Invariant Mass (GeV)')\n",
    "plt.ylabel('Number of Events')\n",
    "plt.show()"
   ]
  },
  {
   "cell_type": "code",
   "execution_count": 34,
   "metadata": {},
   "outputs": [
    {
     "data": {
      "text/plain": [
       "[<matplotlib.lines.Line2D at 0x7e9634fc7440>]"
      ]
     },
     "execution_count": 34,
     "metadata": {},
     "output_type": "execute_result"
    },
    {
     "data": {
      "image/png": "[encoded data removed]",
      "text/plain": [
       "<Figure size 640x480 with 1 Axes>"
      ]
     },
     "metadata": {},
     "output_type": "display_data"
    }
   ],
   "source": [
    "plt.plot(bin_centers, counts-utils.exponential_fit(bin_centers, *popt))"
   ]
  },
  {
   "cell_type": "code",
   "execution_count": 26,
   "metadata": {},
   "outputs": [
    {
     "data": {
      "text/plain": [
       "[<matplotlib.lines.Line2D at 0x7e96fde26a50>]"
      ]
     },
     "execution_count": 26,
     "metadata": {},
     "output_type": "execute_result"
    },
    {
     "data": {
      "image/png": "[encoded data removed]",
      "text/plain": [
       "<Figure size 640x480 with 1 Axes>"
      ]
     },
     "metadata": {},
     "output_type": "display_data"
    }
   ],
   "source": [
    "plt.plot(bin_centers, counts/sum(counts)-counts_A/sum(counts_A))"
   ]
  }
 ],
 "metadata": {
  "kernelspec": {
   "display_name": "climx_attr",
   "language": "python",
   "name": "python3"
  },
  "language_info": {
   "codemirror_mode": {
    "name": "ipython",
    "version": 3
   },
   "file_extension": ".py",
   "mimetype": "text/x-python",
   "name": "python",
   "nbconvert_exporter": "python",
   "pygments_lexer": "ipython3",
   "version": "3.12.4"
  }
 },
 "nbformat": 4,
 "nbformat_minor": 2
}
